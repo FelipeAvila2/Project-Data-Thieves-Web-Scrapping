{
 "cells": [
  {
   "cell_type": "code",
   "execution_count": 1,
   "metadata": {},
   "outputs": [],
   "source": [
    "import requests\n",
    "from bs4 import BeautifulSoup\n",
    "import pandas as pd"
   ]
  },
  {
   "cell_type": "code",
   "execution_count": null,
   "metadata": {},
   "outputs": [],
   "source": [
    "# This is the url you will scrape in this exercise\n",
    "url = 'https://www.pingodoce.pt/produtos/marca-propria-pingo-doce/cuida-bebe/fraldas-activity-extra-care-t3-4-10kg-pingo-doce-cuida-bebe-56-unid/'"
   ]
  },
  {
   "cell_type": "code",
   "execution_count": 54,
   "metadata": {},
   "outputs": [],
   "source": [
    "def pingo_funct():\n",
    "    #url = 'https://www.pingodoce.pt/produtos/marca-propria-pingo-doce/cuida-bebe/'# the url for the lidl baby products\n",
    "    url='https://www.pingodoce.pt/produtos/marca-propria-pingo-doce/cuida-bebe/fraldas-activity-extra-care-t3-4-10kg-pingo-doce-cuida-bebe-56-unid/'\n",
    "    k = requests.get(url).text # the response\n",
    "    \n",
    "    soup=BeautifulSoup(k,'html.parser') # use the beautifulsoup to parse the html\n",
    "    price_list_raw = soup.find_all('span', attrs= { 'class:','product-cards_price'}) # get the raw list of the prices\n",
    "    \n",
    "    #<span class=\"product-cards_price\">2,99€ / UN</span>\n",
    "      \n",
    "    price_list = [] # the clean list of prices\n",
    "    \n",
    "    for element in price_list_raw:\n",
    "        price_list.append((element.text).replace(',','.').replace('\\n','').strip()) # for loop to clean each item in the raw list\n",
    "    \n",
    "    \n",
    "    soup = BeautifulSoup(k,'html.parser') # use beautifulsoup to parse the html\n",
    "    name_list_raw = soup.find_all('h3', attrs= { 'class:','product-cards__title'}) # the raw list of items names\n",
    "    \n",
    "    name_list = [] # the clean list of prices\n",
    "\n",
    "    for element in name_list_raw: \n",
    "        name_list.append((element.text).replace('\\n','').strip()) # the for loop for cleaning each item in the raw list\n",
    "        \n",
    "    new_dict = {\n",
    "        'produtos': name_list,\n",
    "        'preços': price_list,\n",
    "        'supermercado': 'pingo doce'\n",
    "    } # the dict that is going to get changed into a dataframe\n",
    "    \n",
    "    return name_list,price_list#,pd.DataFrame(new_dict) # the return with a dataframe\n",
    "    \n",
    "    "
   ]
  },
  {
   "cell_type": "code",
   "execution_count": 55,
   "metadata": {},
   "outputs": [
    {
     "data": {
      "text/plain": [
       "(['Cotonetes Pingo Doce Cuida Bebé 56 Unid.',\n",
       "  'Creme Hidratante Rosto e Corpo Pingo Doce Cuida Bebé 100ml',\n",
       "  'Creme Muda Fralda Pingo Doce 100Ml',\n",
       "  'Fralda Cueca Extra Care 12-18Kg T5 Pingo Doce Cuida Bebé 23 Unid.'],\n",
       " ['0.59€ / UN', '2.99€ / UN', '2.79€ / UN', '4.59€ / UN'])"
      ]
     },
     "execution_count": 55,
     "metadata": {},
     "output_type": "execute_result"
    }
   ],
   "source": [
    "pingo_funct()"
   ]
  },
  {
   "cell_type": "markdown",
   "metadata": {},
   "source": [
    "##                                          Testar o código com outro url"
   ]
  },
  {
   "cell_type": "code",
   "execution_count": 13,
   "metadata": {},
   "outputs": [],
   "source": [
    "import requests\n",
    "from bs4 import BeautifulSoup\n",
    "import pandas as pd\n",
    "import time\n",
    "\n",
    "def pingo_funct():\n",
    "    \n",
    "    time.sleep(1.5)\n",
    "    \n",
    "    url = 'https://www.pingodoce.pt/produtos/marca-propria-pingo-doce/cuida-bebe/'# the url for the lidl baby products\n",
    "    #url='https://www.pingodoce.pt/produtos/marca-propria-pingo-doce/cuida-bebe/fraldas-activity-extra-care-t3-4-10kg-pingo-doce-cuida-bebe-56-unid/'\n",
    "    k = requests.get(url).text # the response\n",
    "    \n",
    "    soup=BeautifulSoup(k,'html.parser') # use the beautifulsoup to parse the html\n",
    "    price_list_raw = soup.find_all('span', attrs= { 'class:','product-cards_price'}) # get the raw list of the prices\n",
    "    \n",
    "    #<span class=\"product-cards_price\">2,99€ / UN</span>\n",
    "      \n",
    "    price_list = [] # the clean list of prices\n",
    "    \n",
    "    for element in price_list_raw:\n",
    "        price_list.append((element.text).replace(',','.').replace('\\n','').strip()) # for loop to clean each item in the raw list\n",
    "    \n",
    "    \n",
    "    soup = BeautifulSoup(k,'html.parser') # use beautifulsoup to parse the html\n",
    "    name_list_raw = soup.find_all('h3', attrs= {'class:','product-cards__title'}) # the raw list of items names\n",
    "    \n",
    "    name_list = [] # the clean list of prices\n",
    "\n",
    "    for element in name_list_raw: \n",
    "        name_list.append((element.text).replace('\\n','').strip()) # the for loop for cleaning each item in the raw list\n",
    "        \n",
    "    new_dict = {\n",
    "        'produtos': name_list,\n",
    "        'preços': price_list,\n",
    "        'supermercado': 'pingo doce'\n",
    "    } # the dict that is going to get changed into a dataframe\n",
    "    \n",
    "    return pd.DataFrame(new_dict) # the return with a dataframe\n",
    "    \n",
    "    "
   ]
  },
  {
   "cell_type": "code",
   "execution_count": 14,
   "metadata": {},
   "outputs": [
    {
     "data": {
      "text/html": [
       "<div>\n",
       "<style scoped>\n",
       "    .dataframe tbody tr th:only-of-type {\n",
       "        vertical-align: middle;\n",
       "    }\n",
       "\n",
       "    .dataframe tbody tr th {\n",
       "        vertical-align: top;\n",
       "    }\n",
       "\n",
       "    .dataframe thead th {\n",
       "        text-align: right;\n",
       "    }\n",
       "</style>\n",
       "<table border=\"1\" class=\"dataframe\">\n",
       "  <thead>\n",
       "    <tr style=\"text-align: right;\">\n",
       "      <th></th>\n",
       "      <th>produtos</th>\n",
       "      <th>preços</th>\n",
       "      <th>supermercado</th>\n",
       "    </tr>\n",
       "  </thead>\n",
       "  <tbody>\n",
       "  </tbody>\n",
       "</table>\n",
       "</div>"
      ],
      "text/plain": [
       "Empty DataFrame\n",
       "Columns: [produtos, preços, supermercado]\n",
       "Index: []"
      ]
     },
     "execution_count": 14,
     "metadata": {},
     "output_type": "execute_result"
    }
   ],
   "source": [
    "pingo_funct()"
   ]
  },
  {
   "cell_type": "code",
   "execution_count": null,
   "metadata": {},
   "outputs": [],
   "source": [
    "    url = 'https://www.pingodoce.pt/produtos/marca-propria-pingo-doce/cuida-bebe/'# the url for the lidl baby products\n",
    "    #url='https://www.pingodoce.pt/produtos/marca-propria-pingo-doce/cuida-bebe/fraldas-activity-extra-care-t3-4-10kg-pingo-doce-cuida-bebe-56-unid/'\n",
    "    k = requests.get(url).text # the response\n",
    "    soup=BeautifulSoup(k,'html.parser') # use the beautifulsoup to parse the html\n",
    "    price_list_raw = soup.find_all('div')\n",
    "    \n",
    "    \n",
    "                                  "
   ]
  },
  {
   "cell_type": "code",
   "execution_count": null,
   "metadata": {},
   "outputs": [],
   "source": [
    "price_list_raw "
   ]
  },
  {
   "cell_type": "code",
   "execution_count": null,
   "metadata": {},
   "outputs": [],
   "source": []
  }
 ],
 "metadata": {
  "kernelspec": {
   "display_name": "Python 3",
   "language": "python",
   "name": "python3"
  },
  "language_info": {
   "codemirror_mode": {
    "name": "ipython",
    "version": 3
   },
   "file_extension": ".py",
   "mimetype": "text/x-python",
   "name": "python",
   "nbconvert_exporter": "python",
   "pygments_lexer": "ipython3",
   "version": "3.8.5"
  }
 },
 "nbformat": 4,
 "nbformat_minor": 4
}
